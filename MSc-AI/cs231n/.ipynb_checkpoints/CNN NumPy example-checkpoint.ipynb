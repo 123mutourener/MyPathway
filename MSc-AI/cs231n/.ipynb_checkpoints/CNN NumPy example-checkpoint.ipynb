{
 "cells": [
  {
   "cell_type": "code",
   "execution_count": 1,
   "metadata": {},
   "outputs": [
    {
     "name": "stdout",
     "output_type": "stream",
     "text": [
      "Numpy Version is: 1.15.1\n"
     ]
    }
   ],
   "source": [
    "import numpy as np\n",
    "print(\"Numpy Version is: {}\".format(np.__version__))"
   ]
  },
  {
   "cell_type": "code",
   "execution_count": 23,
   "metadata": {},
   "outputs": [
    {
     "name": "stdout",
     "output_type": "stream",
     "text": [
      "[[ 18.86053931   4.33237186  15.00591121 -11.508311  ]\n",
      " [  2.95449858  -0.60417067  -0.93305985 -21.45686363]\n",
      " [ -9.05277224  18.00819198  -4.41512342  -4.85612234]\n",
      " [ -6.03751794 -15.78549953  -6.52087038   7.5229798 ]]\n"
     ]
    }
   ],
   "source": [
    "# Input size: X.shape = [11, 11, 4], P = 0, F = 5, S = 2; V = (W - F + 2P) / S + 1 = 4\n",
    "# This example is for a single filter model\n",
    "x = np.random.randn(11, 11, 4)\n",
    "w_0 = np.random.randn(5, 5, 4)\n",
    "v_0 = np.zeros((4, 4))\n",
    "b_0 = np.random.rand()\n",
    "S = 2\n",
    "F = 5\n",
    "\n",
    "# Calculate V\n",
    "for x_axis in range(0, x.shape[0] - F + 1, S):\n",
    "    for y_axis in range(0, x.shape[1] - F + 1, S):\n",
    "        v_0[int(x_axis/2), int(y_axis/2)] = np.sum(w_0 * x[x_axis: x_axis + F, y_axis: y_axis + F, :]) + b_0\n",
    "\n",
    "print(v_0)"
   ]
  },
  {
   "cell_type": "code",
   "execution_count": 30,
   "metadata": {},
   "outputs": [
    {
     "name": "stdout",
     "output_type": "stream",
     "text": [
      "[[[-10.69223916 -11.14168332 -19.61065674]\n",
      "  [  9.22605173  -0.82847608  -0.59606155]\n",
      "  [ 10.41257952  -0.36497088  17.02338508]\n",
      "  [  1.05475977   8.60318967   4.11042429]]\n",
      "\n",
      " [[ -3.29661855   3.50735857   3.11040782]\n",
      "  [ -0.5298682   -4.08589025   6.03104306]\n",
      "  [ -1.00523837  -3.0662166   -4.91558761]\n",
      "  [ 12.92331044  10.58203423   0.39755849]]\n",
      "\n",
      " [[  2.79534289   2.1083276    8.8057582 ]\n",
      "  [ -0.29071316  -4.16627692  -5.81651497]\n",
      "  [ 15.27787     11.07114124  24.81695363]\n",
      "  [  7.96520958   6.9190961  -25.66827631]]\n",
      "\n",
      " [[  1.84940761   8.2867065   -0.7890902 ]\n",
      "  [  8.36121312   4.64679653   7.52725648]\n",
      "  [  0.47586724   5.62563636  11.17604078]\n",
      "  [  5.93501036  -3.89266434  -3.79098343]]]\n"
     ]
    }
   ],
   "source": [
    "# This example is for a 3 filters model, W = [F, F, depth, filter_number], V = [4, 4, depth_number]\n",
    "x = np.random.randn(11, 11, 4)\n",
    "W = np.random.randn(5, 5, 4, 3)\n",
    "V = np.zeros((4, 4, 3))\n",
    "b = np.random.rand(3)\n",
    "S = 2\n",
    "F = 5\n",
    "\n",
    "# Calculate V\n",
    "for filter_number in range(W.shape[3]):\n",
    "    for x_axis in range(0, x.shape[0] - F + 1, S):\n",
    "        for y_axis in range(0, x.shape[1] - F + 1, S):\n",
    "            V[int(x_axis/2), int(y_axis/2), filter_number] = np.sum(W[:, :, :, filter_number] * x[x_axis: x_axis + F, y_axis: y_axis + F, :]) + b[filter_number]\n",
    "\n",
    "print(V)"
   ]
  },
  {
   "cell_type": "code",
   "execution_count": null,
   "metadata": {},
   "outputs": [],
   "source": []
  }
 ],
 "metadata": {
  "kernelspec": {
   "display_name": "Python 3",
   "language": "python",
   "name": "python3"
  },
  "language_info": {
   "codemirror_mode": {
    "name": "ipython",
    "version": 3
   },
   "file_extension": ".py",
   "mimetype": "text/x-python",
   "name": "python",
   "nbconvert_exporter": "python",
   "pygments_lexer": "ipython3",
   "version": "3.7.2"
  }
 },
 "nbformat": 4,
 "nbformat_minor": 2
}
